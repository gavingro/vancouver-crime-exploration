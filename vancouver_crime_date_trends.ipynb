{
 "cells": [
  {
   "cell_type": "markdown",
   "metadata": {},
   "source": [
    "# Table of Contents\n",
    "\n",
    "#### 1. Necessary Python Imports and Setup\n",
    "#### 2. Cleaning and Organizing the Data for Analysis\n",
    "* Importing and Formatting\n",
    "* Dropping Extra Columns\n",
    "* Missing Values\n",
    "\n",
    "#### 3. Initial Data Exploration\n",
    "* Research Questions\n",
    "* Initial Exploration of Date Contingency Table\n",
    "* Some Toy Probability Questions\n",
    "\n",
    "\n",
    "#### 4. Yearly Trends\n",
    "* Yearly Trends\n",
    "* Pearson Correlation Coefficient\n",
    "* Hypothesis Testing for Linear Regression\n",
    "\n",
    "#### 5. Exploration of Monthly Trends\n",
    "* Quick Monthly Statistics\n",
    "* A Final Visualization\n",
    "* Investigating the Olympics\n",
    "\n",
    "#### 6. Conclusions\n",
    "---"
   ]
  },
  {
   "cell_type": "markdown",
   "metadata": {},
   "source": [
    "# 1 Necessary Python Imports and Setup"
   ]
  },
  {
   "cell_type": "code",
   "execution_count": 1,
   "metadata": {},
   "outputs": [],
   "source": [
    "import pandas as pd\n",
    "import matplotlib.pyplot as plt\n",
    "import seaborn as sns\n",
    "import statsmodels.stats.api as sms\n",
    "from scipy.stats import linregress"
   ]
  },
  {
   "cell_type": "markdown",
   "metadata": {},
   "source": [
    "---\n",
    "# 2 Cleaning and Organizing the Data for Analysis\n",
    "\n",
    "Alright, so let's get our data in here and take a look at what we've got.\n",
    "\n",
    "*The data comes from the Vancouver Open Data Catalogue. It was extracted on 2017-07-18 and it contains 530,652 records from 2003-01-01 to 2017-07-13.*"
   ]
  },
  {
   "cell_type": "code",
   "execution_count": 2,
   "metadata": {
    "scrolled": true
   },
   "outputs": [
    {
     "name": "stdout",
     "output_type": "stream",
     "text": [
      "(530652, 12)\n"
     ]
    }
   ],
   "source": [
    "crime_df = pd.read_csv(\"vancouver_crime.csv\")\n",
    "\n",
    "crime_df.head()\n",
    "print(crime_df.shape)"
   ]
  },
  {
   "cell_type": "markdown",
   "metadata": {},
   "source": [
    "A sample of 530652 crimes in Vancouver!\n",
    "\n",
    "*For the purposes of this project, I am going to pare down the data a little bit into something more workable. There is some great info in here, but also some extra details that I don't want to deal with while I work with the data.*\n",
    "\n",
    "### Dropping Extra Columns\n",
    "First things first, let's get rid of the X, Y, Latitude, and Longitude columns. I am satisfied with letting \"Neighborhood\" and \"Hundred_Block\" be representative of the location of the crime.\n",
    "\n",
    "Next, there is a LOT of \"time\" information here.\n",
    "Some of these catagories are great and useful seperately like the Year and Month of the crime.\n",
    "\n",
    "I am less concerned about which day in the month a crime happened. I believe this is caught well enough by the month column, so I am just going to drop this \"Day\" column too.\n",
    "\n",
    "Similarly, I'm less interested in where in the hour crime happened than when in the day a crime happened - I'm going to combine the Minute column into the Hour column. \n",
    "\n"
   ]
  },
  {
   "cell_type": "code",
   "execution_count": 3,
   "metadata": {},
   "outputs": [
    {
     "data": {
      "text/html": [
       "<div>\n",
       "<style scoped>\n",
       "    .dataframe tbody tr th:only-of-type {\n",
       "        vertical-align: middle;\n",
       "    }\n",
       "\n",
       "    .dataframe tbody tr th {\n",
       "        vertical-align: top;\n",
       "    }\n",
       "\n",
       "    .dataframe thead th {\n",
       "        text-align: right;\n",
       "    }\n",
       "</style>\n",
       "<table border=\"1\" class=\"dataframe\">\n",
       "  <thead>\n",
       "    <tr style=\"text-align: right;\">\n",
       "      <th></th>\n",
       "      <th>TYPE</th>\n",
       "      <th>YEAR</th>\n",
       "      <th>MONTH</th>\n",
       "      <th>HOUR</th>\n",
       "      <th>HUNDRED_BLOCK</th>\n",
       "      <th>NEIGHBOURHOOD</th>\n",
       "    </tr>\n",
       "  </thead>\n",
       "  <tbody>\n",
       "    <tr>\n",
       "      <th>0</th>\n",
       "      <td>Other Theft</td>\n",
       "      <td>2003</td>\n",
       "      <td>5</td>\n",
       "      <td>16.25</td>\n",
       "      <td>9XX TERMINAL AVE</td>\n",
       "      <td>Strathcona</td>\n",
       "    </tr>\n",
       "    <tr>\n",
       "      <th>1</th>\n",
       "      <td>Other Theft</td>\n",
       "      <td>2003</td>\n",
       "      <td>5</td>\n",
       "      <td>15.33</td>\n",
       "      <td>9XX TERMINAL AVE</td>\n",
       "      <td>Strathcona</td>\n",
       "    </tr>\n",
       "    <tr>\n",
       "      <th>2</th>\n",
       "      <td>Other Theft</td>\n",
       "      <td>2003</td>\n",
       "      <td>4</td>\n",
       "      <td>16.67</td>\n",
       "      <td>9XX TERMINAL AVE</td>\n",
       "      <td>Strathcona</td>\n",
       "    </tr>\n",
       "    <tr>\n",
       "      <th>3</th>\n",
       "      <td>Other Theft</td>\n",
       "      <td>2003</td>\n",
       "      <td>4</td>\n",
       "      <td>11.25</td>\n",
       "      <td>9XX TERMINAL AVE</td>\n",
       "      <td>Strathcona</td>\n",
       "    </tr>\n",
       "    <tr>\n",
       "      <th>4</th>\n",
       "      <td>Other Theft</td>\n",
       "      <td>2003</td>\n",
       "      <td>4</td>\n",
       "      <td>17.75</td>\n",
       "      <td>9XX TERMINAL AVE</td>\n",
       "      <td>Strathcona</td>\n",
       "    </tr>\n",
       "  </tbody>\n",
       "</table>\n",
       "</div>"
      ],
      "text/plain": [
       "          TYPE  YEAR  MONTH   HOUR     HUNDRED_BLOCK NEIGHBOURHOOD\n",
       "0  Other Theft  2003      5  16.25  9XX TERMINAL AVE    Strathcona\n",
       "1  Other Theft  2003      5  15.33  9XX TERMINAL AVE    Strathcona\n",
       "2  Other Theft  2003      4  16.67  9XX TERMINAL AVE    Strathcona\n",
       "3  Other Theft  2003      4  11.25  9XX TERMINAL AVE    Strathcona\n",
       "4  Other Theft  2003      4  17.75  9XX TERMINAL AVE    Strathcona"
      ]
     },
     "execution_count": 3,
     "metadata": {},
     "output_type": "execute_result"
    }
   ],
   "source": [
    "df = crime_df\n",
    "\n",
    "df[\"HOUR\"] = df.apply(\n",
    "    lambda row:\n",
    "        round(\n",
    "            row[\"HOUR\"] + (0.01 * row[\"MINUTE\"] * (100/60)),\n",
    "            2\n",
    "        ),\n",
    "    axis=1\n",
    ")\n",
    "\n",
    "\n",
    "df.drop(\n",
    "    columns = [\"X\", \"Y\", \"Latitude\", \"Longitude\", \"DAY\", \"MINUTE\"],\n",
    "    inplace = True,\n",
    ")\n",
    "\n",
    "df.head()"
   ]
  },
  {
   "cell_type": "markdown",
   "metadata": {},
   "source": [
    "This is looking pretty good, and very workable. \n",
    "For the sake of our later visualizations, the minutes have been converted into proportions of the full hours. The small sacrifice in readibility will be worth a smoother visualization, I think.\n",
    "\n",
    "The last thing we are going to do is make a function to change the Months of the year back into their names, for readability. We will not use this just yet, because for now I'd still like to preserve the order of the months."
   ]
  },
  {
   "cell_type": "code",
   "execution_count": 4,
   "metadata": {},
   "outputs": [],
   "source": [
    "monthDict = {\n",
    "    1:'Jan',\n",
    "    2:'Feb',\n",
    "    3:'Mar',\n",
    "    4:'Apr',\n",
    "    5:'May',\n",
    "    6:'Jun',\n",
    "    7:'Jul',\n",
    "    8:'Aug',\n",
    "    9:'Sep',\n",
    "    10:'Oct',\n",
    "    11:'Nov',\n",
    "    12:'Dec'\n",
    "}\n",
    "\n",
    "def translate_months(df):\n",
    "    \"\"\"\n",
    "    Takes the dataframe and changes the integer month values to text month values, returning the new dataframe.\n",
    "    \"\"\"\n",
    "    df[\"MONTH\"] = df.apply(\n",
    "        lambda row:\n",
    "            monthDict[row[\"MONTH\"]],\n",
    "        axis = 1\n",
    "    )\n",
    "    return df\n",
    "\n",
    "def translate_month_columns(df):\n",
    "    \"\"\"\n",
    "    Takes the dataframe and changes the integer month columns to text month columns, returning the dataframe.\n",
    "    \"\"\"\n",
    "    df = df.rename(columns = monthDict)\n",
    "    return df\n",
    "    "
   ]
  },
  {
   "cell_type": "markdown",
   "metadata": {},
   "source": [
    "This leaves us with some extremely telling variables to work with!\n",
    "We have the following types of data in our study:\n",
    "1. **Type** - a nominal, catagorical variable describing the type of crime committed.\n",
    "2. **Year** - a nominal, ordinal variable describing the year the crime was committed.\n",
    "3. **Month** - a nominal, ordinal variable describing the month of the year the crime was committed.\n",
    "4. **Hour** - a discrete, numerical variable describing the minute of the day that the crime was committed.\n",
    "5. **Hundred Block** - a nominal, catagorical variable describing the rough block in Vancouver the crime was committed at.\n",
    "6. **Neighborhood** - a nominal, catagorical variable describing the neighborhood in Vancouver the crime was committed at.\n",
    "---"
   ]
  },
  {
   "cell_type": "markdown",
   "metadata": {},
   "source": [
    "### Missing Values \n",
    "Before working with the data, we need to decide on what to do with the missing values in the data frame."
   ]
  },
  {
   "cell_type": "code",
   "execution_count": 5,
   "metadata": {
    "scrolled": false
   },
   "outputs": [
    {
     "data": {
      "text/plain": [
       "TYPE                 0\n",
       "YEAR                 0\n",
       "MONTH                0\n",
       "HOUR             54362\n",
       "HUNDRED_BLOCK       13\n",
       "NEIGHBOURHOOD    56624\n",
       "dtype: int64"
      ]
     },
     "execution_count": 5,
     "metadata": {},
     "output_type": "execute_result"
    }
   ],
   "source": [
    "missing_df = df.isnull().sum()\n",
    "\n",
    "missing_df"
   ]
  },
  {
   "cell_type": "markdown",
   "metadata": {},
   "source": [
    "Since most of the missing data is in the hour and neighborhood columns, we are going to work with two situations. The first the full data frame of our sample space, with all of the crimes ( but we will only be able to use these for our calculations that do not involve the HOUR or NEIGHBORHOOD features.\n",
    "\n",
    "The second will be the smaller subset of data that does include both the hour and neighborhood information. This will not be used for trends and calculations on year/month, but could be used on calculations about neighborhood and hour of day.\n",
    "\n",
    "---\n",
    "**NOTE:** *Initially, you can see me prepare here both subsets of data to accomplish different goals with. However, I found that I was able to do more than enough with the initial Date dataset for the purposes of this project, so the features relating to Location, Type, and Time of Day (all very exciting features), go unexplored.*\n",
    "\n",
    "---"
   ]
  },
  {
   "cell_type": "code",
   "execution_count": 6,
   "metadata": {},
   "outputs": [
    {
     "name": "stdout",
     "output_type": "stream",
     "text": [
      "(530639, 4)\n"
     ]
    }
   ],
   "source": [
    "date_df = df[[\"TYPE\", \"YEAR\", \"MONTH\", \"HUNDRED_BLOCK\"]].dropna()\n",
    "date_df.isnull().sum()\n",
    "print(date_df.shape)\n"
   ]
  },
  {
   "cell_type": "code",
   "execution_count": 7,
   "metadata": {},
   "outputs": [
    {
     "name": "stdout",
     "output_type": "stream",
     "text": [
      "(474015, 6)\n"
     ]
    }
   ],
   "source": [
    "hour_location_df = df.dropna()\n",
    "hour_location_df.isnull().sum()\n",
    "print(hour_location_df.shape)"
   ]
  },
  {
   "cell_type": "markdown",
   "metadata": {},
   "source": [
    "For the hour_location_df, we ended up dropping about 11% of our data, which is not great.\n",
    "\n",
    "*Unfortunately, I don't know how to clean data properly yet, and I'm not sure of the strategies to add back in the hour-of-day, which is not related to any other variables, without totally warping the averages of the HOUR variable, which is barely a numerical data type to begin with.*\n",
    "\n",
    "Thankfully, in the context of this project, we don't even explore the location/hour/type dataset at all. Instead, have enough investigation with the Date subset alone."
   ]
  },
  {
   "cell_type": "markdown",
   "metadata": {},
   "source": [
    "---\n",
    "# 3. Initial Data Exploration\n",
    "\n",
    "## Research Questions\n",
    "*Rather than approach this from trying to reproduce what I've learned in class, I instead want to approach this from research questions to answer with statistics:*\n",
    "\n",
    "1. How does the number of crimes change year to year? Are they getting more or less frequent?\n",
    "2. Which months are above average in their crime rate? Below average? How much does each month vary?\n",
    "3. Did the 2010 Olympics affect the crime rate in February 2010 as compared to other years?\n"
   ]
  },
  {
   "cell_type": "markdown",
   "metadata": {},
   "source": [
    "### Initial Explorations of Date Contingency Table\n",
    "*First, let's take a look at some counts of how the months and years relate.*"
   ]
  },
  {
   "cell_type": "code",
   "execution_count": 8,
   "metadata": {
    "scrolled": false
   },
   "outputs": [
    {
     "data": {
      "text/html": [
       "<div>\n",
       "<style scoped>\n",
       "    .dataframe tbody tr th:only-of-type {\n",
       "        vertical-align: middle;\n",
       "    }\n",
       "\n",
       "    .dataframe tbody tr th {\n",
       "        vertical-align: top;\n",
       "    }\n",
       "\n",
       "    .dataframe thead th {\n",
       "        text-align: right;\n",
       "    }\n",
       "</style>\n",
       "<table border=\"1\" class=\"dataframe\">\n",
       "  <thead>\n",
       "    <tr style=\"text-align: right;\">\n",
       "      <th>MONTH</th>\n",
       "      <th>Jan</th>\n",
       "      <th>Feb</th>\n",
       "      <th>Mar</th>\n",
       "      <th>Apr</th>\n",
       "      <th>May</th>\n",
       "      <th>Jun</th>\n",
       "      <th>Jul</th>\n",
       "      <th>Aug</th>\n",
       "      <th>Sep</th>\n",
       "      <th>Oct</th>\n",
       "      <th>Nov</th>\n",
       "      <th>Dec</th>\n",
       "      <th>All</th>\n",
       "    </tr>\n",
       "    <tr>\n",
       "      <th>YEAR</th>\n",
       "      <th></th>\n",
       "      <th></th>\n",
       "      <th></th>\n",
       "      <th></th>\n",
       "      <th></th>\n",
       "      <th></th>\n",
       "      <th></th>\n",
       "      <th></th>\n",
       "      <th></th>\n",
       "      <th></th>\n",
       "      <th></th>\n",
       "      <th></th>\n",
       "      <th></th>\n",
       "    </tr>\n",
       "  </thead>\n",
       "  <tbody>\n",
       "    <tr>\n",
       "      <th>2003</th>\n",
       "      <td>4399</td>\n",
       "      <td>3548</td>\n",
       "      <td>3933</td>\n",
       "      <td>4214</td>\n",
       "      <td>4647</td>\n",
       "      <td>4490</td>\n",
       "      <td>4098</td>\n",
       "      <td>4281</td>\n",
       "      <td>3972</td>\n",
       "      <td>4494</td>\n",
       "      <td>3922</td>\n",
       "      <td>3928</td>\n",
       "      <td>49926</td>\n",
       "    </tr>\n",
       "    <tr>\n",
       "      <th>2004</th>\n",
       "      <td>3767</td>\n",
       "      <td>3697</td>\n",
       "      <td>4254</td>\n",
       "      <td>4116</td>\n",
       "      <td>4041</td>\n",
       "      <td>3862</td>\n",
       "      <td>3947</td>\n",
       "      <td>4371</td>\n",
       "      <td>4544</td>\n",
       "      <td>4479</td>\n",
       "      <td>4218</td>\n",
       "      <td>3979</td>\n",
       "      <td>49275</td>\n",
       "    </tr>\n",
       "    <tr>\n",
       "      <th>2005</th>\n",
       "      <td>3849</td>\n",
       "      <td>3425</td>\n",
       "      <td>3835</td>\n",
       "      <td>3806</td>\n",
       "      <td>3950</td>\n",
       "      <td>3747</td>\n",
       "      <td>3682</td>\n",
       "      <td>3861</td>\n",
       "      <td>3691</td>\n",
       "      <td>3692</td>\n",
       "      <td>3555</td>\n",
       "      <td>3568</td>\n",
       "      <td>44661</td>\n",
       "    </tr>\n",
       "    <tr>\n",
       "      <th>2006</th>\n",
       "      <td>3915</td>\n",
       "      <td>3262</td>\n",
       "      <td>3688</td>\n",
       "      <td>3137</td>\n",
       "      <td>3422</td>\n",
       "      <td>3591</td>\n",
       "      <td>3654</td>\n",
       "      <td>3658</td>\n",
       "      <td>3524</td>\n",
       "      <td>3584</td>\n",
       "      <td>3363</td>\n",
       "      <td>3522</td>\n",
       "      <td>42320</td>\n",
       "    </tr>\n",
       "    <tr>\n",
       "      <th>2007</th>\n",
       "      <td>3551</td>\n",
       "      <td>2787</td>\n",
       "      <td>3051</td>\n",
       "      <td>3076</td>\n",
       "      <td>3158</td>\n",
       "      <td>3198</td>\n",
       "      <td>3242</td>\n",
       "      <td>3635</td>\n",
       "      <td>3186</td>\n",
       "      <td>3173</td>\n",
       "      <td>2964</td>\n",
       "      <td>2671</td>\n",
       "      <td>37692</td>\n",
       "    </tr>\n",
       "    <tr>\n",
       "      <th>2008</th>\n",
       "      <td>2760</td>\n",
       "      <td>2829</td>\n",
       "      <td>3309</td>\n",
       "      <td>2907</td>\n",
       "      <td>3072</td>\n",
       "      <td>2989</td>\n",
       "      <td>2960</td>\n",
       "      <td>3068</td>\n",
       "      <td>2988</td>\n",
       "      <td>3078</td>\n",
       "      <td>2823</td>\n",
       "      <td>2631</td>\n",
       "      <td>35414</td>\n",
       "    </tr>\n",
       "    <tr>\n",
       "      <th>2009</th>\n",
       "      <td>2743</td>\n",
       "      <td>2692</td>\n",
       "      <td>2544</td>\n",
       "      <td>2533</td>\n",
       "      <td>2789</td>\n",
       "      <td>2641</td>\n",
       "      <td>2793</td>\n",
       "      <td>2907</td>\n",
       "      <td>2815</td>\n",
       "      <td>2693</td>\n",
       "      <td>2664</td>\n",
       "      <td>2358</td>\n",
       "      <td>32172</td>\n",
       "    </tr>\n",
       "    <tr>\n",
       "      <th>2010</th>\n",
       "      <td>2453</td>\n",
       "      <td>2245</td>\n",
       "      <td>2430</td>\n",
       "      <td>2338</td>\n",
       "      <td>2486</td>\n",
       "      <td>2444</td>\n",
       "      <td>2499</td>\n",
       "      <td>2839</td>\n",
       "      <td>2614</td>\n",
       "      <td>2751</td>\n",
       "      <td>2294</td>\n",
       "      <td>2295</td>\n",
       "      <td>29688</td>\n",
       "    </tr>\n",
       "    <tr>\n",
       "      <th>2011</th>\n",
       "      <td>2360</td>\n",
       "      <td>2124</td>\n",
       "      <td>2315</td>\n",
       "      <td>2148</td>\n",
       "      <td>2294</td>\n",
       "      <td>2901</td>\n",
       "      <td>2694</td>\n",
       "      <td>2489</td>\n",
       "      <td>2439</td>\n",
       "      <td>2299</td>\n",
       "      <td>2254</td>\n",
       "      <td>2256</td>\n",
       "      <td>28573</td>\n",
       "    </tr>\n",
       "    <tr>\n",
       "      <th>2012</th>\n",
       "      <td>2325</td>\n",
       "      <td>2183</td>\n",
       "      <td>2405</td>\n",
       "      <td>2370</td>\n",
       "      <td>2351</td>\n",
       "      <td>2484</td>\n",
       "      <td>2364</td>\n",
       "      <td>2784</td>\n",
       "      <td>2616</td>\n",
       "      <td>2447</td>\n",
       "      <td>2551</td>\n",
       "      <td>2340</td>\n",
       "      <td>29220</td>\n",
       "    </tr>\n",
       "    <tr>\n",
       "      <th>2013</th>\n",
       "      <td>2128</td>\n",
       "      <td>1925</td>\n",
       "      <td>2436</td>\n",
       "      <td>2428</td>\n",
       "      <td>2528</td>\n",
       "      <td>2467</td>\n",
       "      <td>2612</td>\n",
       "      <td>2583</td>\n",
       "      <td>2417</td>\n",
       "      <td>2572</td>\n",
       "      <td>2552</td>\n",
       "      <td>2408</td>\n",
       "      <td>29056</td>\n",
       "    </tr>\n",
       "    <tr>\n",
       "      <th>2014</th>\n",
       "      <td>2461</td>\n",
       "      <td>2141</td>\n",
       "      <td>2447</td>\n",
       "      <td>2497</td>\n",
       "      <td>2803</td>\n",
       "      <td>2769</td>\n",
       "      <td>3174</td>\n",
       "      <td>3191</td>\n",
       "      <td>2985</td>\n",
       "      <td>2997</td>\n",
       "      <td>2635</td>\n",
       "      <td>2559</td>\n",
       "      <td>32659</td>\n",
       "    </tr>\n",
       "    <tr>\n",
       "      <th>2015</th>\n",
       "      <td>2678</td>\n",
       "      <td>2328</td>\n",
       "      <td>2440</td>\n",
       "      <td>2515</td>\n",
       "      <td>2839</td>\n",
       "      <td>2859</td>\n",
       "      <td>3224</td>\n",
       "      <td>2937</td>\n",
       "      <td>2876</td>\n",
       "      <td>3216</td>\n",
       "      <td>3268</td>\n",
       "      <td>3148</td>\n",
       "      <td>34328</td>\n",
       "    </tr>\n",
       "    <tr>\n",
       "      <th>2016</th>\n",
       "      <td>3360</td>\n",
       "      <td>2864</td>\n",
       "      <td>3227</td>\n",
       "      <td>3091</td>\n",
       "      <td>3495</td>\n",
       "      <td>3377</td>\n",
       "      <td>3484</td>\n",
       "      <td>3339</td>\n",
       "      <td>3083</td>\n",
       "      <td>3091</td>\n",
       "      <td>2882</td>\n",
       "      <td>2505</td>\n",
       "      <td>37798</td>\n",
       "    </tr>\n",
       "    <tr>\n",
       "      <th>All</th>\n",
       "      <td>45218</td>\n",
       "      <td>40431</td>\n",
       "      <td>45313</td>\n",
       "      <td>44037</td>\n",
       "      <td>46882</td>\n",
       "      <td>46710</td>\n",
       "      <td>45676</td>\n",
       "      <td>45943</td>\n",
       "      <td>43750</td>\n",
       "      <td>44566</td>\n",
       "      <td>41945</td>\n",
       "      <td>40168</td>\n",
       "      <td>530639</td>\n",
       "    </tr>\n",
       "  </tbody>\n",
       "</table>\n",
       "</div>"
      ],
      "text/plain": [
       "MONTH    Jan    Feb    Mar    Apr    May    Jun    Jul    Aug    Sep    Oct  \\\n",
       "YEAR                                                                          \n",
       "2003    4399   3548   3933   4214   4647   4490   4098   4281   3972   4494   \n",
       "2004    3767   3697   4254   4116   4041   3862   3947   4371   4544   4479   \n",
       "2005    3849   3425   3835   3806   3950   3747   3682   3861   3691   3692   \n",
       "2006    3915   3262   3688   3137   3422   3591   3654   3658   3524   3584   \n",
       "2007    3551   2787   3051   3076   3158   3198   3242   3635   3186   3173   \n",
       "2008    2760   2829   3309   2907   3072   2989   2960   3068   2988   3078   \n",
       "2009    2743   2692   2544   2533   2789   2641   2793   2907   2815   2693   \n",
       "2010    2453   2245   2430   2338   2486   2444   2499   2839   2614   2751   \n",
       "2011    2360   2124   2315   2148   2294   2901   2694   2489   2439   2299   \n",
       "2012    2325   2183   2405   2370   2351   2484   2364   2784   2616   2447   \n",
       "2013    2128   1925   2436   2428   2528   2467   2612   2583   2417   2572   \n",
       "2014    2461   2141   2447   2497   2803   2769   3174   3191   2985   2997   \n",
       "2015    2678   2328   2440   2515   2839   2859   3224   2937   2876   3216   \n",
       "2016    3360   2864   3227   3091   3495   3377   3484   3339   3083   3091   \n",
       "All    45218  40431  45313  44037  46882  46710  45676  45943  43750  44566   \n",
       "\n",
       "MONTH    Nov    Dec     All  \n",
       "YEAR                         \n",
       "2003    3922   3928   49926  \n",
       "2004    4218   3979   49275  \n",
       "2005    3555   3568   44661  \n",
       "2006    3363   3522   42320  \n",
       "2007    2964   2671   37692  \n",
       "2008    2823   2631   35414  \n",
       "2009    2664   2358   32172  \n",
       "2010    2294   2295   29688  \n",
       "2011    2254   2256   28573  \n",
       "2012    2551   2340   29220  \n",
       "2013    2552   2408   29056  \n",
       "2014    2635   2559   32659  \n",
       "2015    3268   3148   34328  \n",
       "2016    2882   2505   37798  \n",
       "All    41945  40168  530639  "
      ]
     },
     "execution_count": 8,
     "metadata": {},
     "output_type": "execute_result"
    }
   ],
   "source": [
    "year_df = date_df.pivot_table(\n",
    "    columns = \"MONTH\",\n",
    "    index = \"YEAR\",\n",
    "    values = \"HUNDRED_BLOCK\",\n",
    "    aggfunc = \"count\",\n",
    "    margins = True,\n",
    "    fill_value = 0\n",
    ")\n",
    "\n",
    "year_df.drop(index = 2017, inplace = True)\n",
    "\n",
    "\n",
    "year_df = translate_month_columns(year_df)\n",
    "year_df = year_df.astype(\"int\")\n",
    "\n",
    "year_df"
   ]
  },
  {
   "cell_type": "markdown",
   "metadata": {},
   "source": [
    "We can see here the detailed **Contingency Table** between the MONTH and YEAR variables, which lets us find some immediate insights.\n",
    "\n",
    "* We can clearly see that the data follows what we know and is full from Jan 2003 to Dec 2016 - we have dropped 2017 because it was incomplete.\n",
    "* We can clearly use this information from the table to calculate a multitude of answers for various questions we might have about the data.\n",
    "\n",
    "### Some Toy Probability Questions:\n",
    "\n",
    "**What is the probability that a randomly selected crime will be from 2011?**\n",
    "\n",
    "We know that $P(a) = \\frac{|a|}{|S|}$ so,\n",
    "$$P(2011) = \\frac{|2011|}{|S|}$$\n",
    "\n",
    "$$P(2011) = \\frac{28573}{530639}$$\n",
    "\n",
    "$$P(2011) = 0.05384640028 $$\n",
    "\n",
    "$$P(2011) = 5.4\\% \\\\ $$\n",
    "\n",
    "\n",
    "\n",
    "**What is the probability that a randomly selected crime will be in March OR from 2011?**\n",
    "\n",
    "We know that $P(a \\cup b) = P(a) + P(b) - P(a \\cap b)$ so,\n",
    "\n",
    "$$P(2011 \\cup March) = P(2011) + P(March) - P(2011 \\cap March) $$\n",
    "\n",
    "$$P(2011 \\cup March) = \\frac{28573}{530639} + \\frac{45313}{530639} - \\frac{2315}{530639}$$\n",
    "\n",
    "$$P(2011 \\cup March) = \\frac{71571}{530639} $$\n",
    "\n",
    "$$P(2011 \\cup March) =  0.13487700677 $$\n",
    "\n",
    "$$P(2011 \\cup March) =  13.5 \\% \\\\ $$\n",
    "\n",
    "\n",
    "\n",
    "\n",
    "\n",
    "\n",
    "\n",
    "**What is the probability that a crime selected from 2010 will have occured during the Vancouver Olympics (February) ?**\n",
    "\n",
    "We know that $P(a | b) = \\frac{P(a \\cap b)}{P(b)}$ so,\n",
    "\n",
    "$$ P(February | 2010) = \\frac{P(February \\cap 2010)}{P(2010)}$$\n",
    "\n",
    "$$ P(February | 2010) = \\frac{2245}{29688}$$\n",
    "\n",
    "$$ P(February | 2010) = 0.07561977903 $$\n",
    "\n",
    "$$ P(February | 2010) = 7.6 \\% $$\n",
    "\n",
    "*It should be noted this only compares Feb 2010 to the other months in 2010 - what will be more interesting is when we compare it to the February's of other years.*\n",
    "\n"
   ]
  },
  {
   "cell_type": "markdown",
   "metadata": {},
   "source": [
    "# 4. Yearly Trends\n",
    "*Here, we want to look at how the crime rate in Vancouver changed over the years, and use hypothesis testing to determine if there is any correlation between the year and the amount of crime in Vancouver.*"
   ]
  },
  {
   "cell_type": "code",
   "execution_count": 9,
   "metadata": {
    "scrolled": false
   },
   "outputs": [
    {
     "data": {
      "image/png": "[encoded data removed]",
      "text/plain": [
       "<Figure size 1080x576 with 1 Axes>"
      ]
     },
     "metadata": {
      "needs_background": "light"
     },
     "output_type": "display_data"
    }
   ],
   "source": [
    "yearly_df = year_df[\"All\"].drop(index = [\"All\"]).reset_index()\n",
    "yearly_df.rename(columns = {\"All\" : \"Crimes\"}, inplace = True)\n",
    "\n",
    "fig = plt.figure(figsize = (15, 8))\n",
    "sns.barplot(\n",
    "    x = \"YEAR\",\n",
    "    y = \"Crimes\",\n",
    "    data = yearly_df,\n",
    "    palette = \"RdPu\"\n",
    "    )\n",
    "fig.suptitle(\n",
    "    \"Total Crimes Per Year in Vancouver from 2003 to 2016\",\n",
    "    fontsize = 18\n",
    ")\n",
    "plt.show()"
   ]
  },
  {
   "cell_type": "markdown",
   "metadata": {},
   "source": [
    "Indeed, it does appear at first as if there is some decrease in crime through the years!\n",
    "\n",
    "Let's look to see how \"linear\" the data actually is.\n",
    "\n",
    "### Pearson Correlation Coefficient\n",
    "\n",
    "Here we will use our formula for the Sample Correlation Coeffiecent, using our Yearly Count as $x$ and our Year as $y$. The formula is as follows: \n",
    "\n",
    "$$ r = \\frac{n(\\sum xy) - (\\sum x)(\\sum y)}{\\sqrt{n(\\sum x^2) - (\\sum x)^2}\\sqrt{n(\\sum y^2) - (\\sum y)^2}} $$\n",
    "\n",
    "This variable $r$ is a measure of how \"linear\" the graph is. For data that is completely non-linear, $r$ will be 0, and as the data becomes more linear, $r$ will approach either $1$ or $-1$."
   ]
  },
  {
   "cell_type": "code",
   "execution_count": 10,
   "metadata": {
    "scrolled": true
   },
   "outputs": [
    {
     "name": "stdout",
     "output_type": "stream",
     "text": [
      "r = -0.7351058405054328\n"
     ]
    }
   ],
   "source": [
    "slope, intercept, r, p, error = linregress(\n",
    "    yearly_df[\"YEAR\"],\n",
    "    yearly_df[\"Crimes\"]\n",
    ")\n",
    "print(\"r =\", r)"
   ]
  },
  {
   "cell_type": "markdown",
   "metadata": {},
   "source": [
    "We can see that the correlation coefficient $r = -0.735106$, which seems to indicate some sort of linearity. However, that is only true for our sample here - we still need to make some conclusions about the population.\n",
    "\n",
    "### Hypothesis Testing for Regression\n",
    "\n",
    "Let the **null hypothesis** be that the year has no affect on the number of crimes, and the **alternative hypothesis** be that there is a linear relationship between them.\n",
    "\n",
    "In other words:\n",
    "$$ H_0 : \\rho = 0 \\\\ H_A : \\rho \\ne 0 $$\n",
    "\n",
    "We can use this $r$ to calculate $p$, using a t distribution with the following critical values:\n",
    "\n",
    "$$ t_{calc} = r\\sqrt{\\frac{n -2}{1 - r^2}} $$\n",
    "\n",
    "Here, $n = 530639$, since we have that many samples.\n",
    "\n",
    "With that in mind, we can calculate those $t$-values, and lookup a t table to find our level of $p$ for us to compare to.\n",
    "\n",
    "*Since we are using python, I used a scipy library to do the calculations.*"
   ]
  },
  {
   "cell_type": "code",
   "execution_count": 11,
   "metadata": {
    "scrolled": true
   },
   "outputs": [
    {
     "name": "stdout",
     "output_type": "stream",
     "text": [
      "p = 0.002740146309214047\n"
     ]
    }
   ],
   "source": [
    "print(\"p =\", p)"
   ]
  },
  {
   "cell_type": "markdown",
   "metadata": {},
   "source": [
    "We can see here that $p = 0.002740146309214047$. \n",
    "\n",
    "Since we do not have any special circumstances, we can move forward comparing it to our default 95% confidence rate with $\\alpha = 0.05$.\n",
    "\n",
    "We see here that $$ 0.0027 < 0.0500 $$\n",
    " $$ p < \\alpha $$\n",
    "\n",
    "And therefore we know that it is very unlikely for us to have found this data given that the null hypothesis was true. Instead, we can safely reject the null hypothesis, and conclude that **there is indeed correllation between the Year and the number of crimes.**\n",
    "\n",
    "*This could be to any sort of real world factors - infrastructure changes over time, political decisions, cultural value placed on or against policing, moral changes in Vancouver, etc.*\n",
    "\n",
    "Let's take a look at what that line might look like against our yearly data."
   ]
  },
  {
   "cell_type": "code",
   "execution_count": 21,
   "metadata": {},
   "outputs": [
    {
     "data": {
      "image/png": "[encoded data removed]",
      "text/plain": [
       "<Figure size 1152x576 with 1 Axes>"
      ]
     },
     "metadata": {
      "needs_background": "light"
     },
     "output_type": "display_data"
    }
   ],
   "source": [
    "fig, ax = plt.subplots(figsize = (16, 8))\n",
    "sns.regplot(\n",
    "    x = \"YEAR\",\n",
    "    y = \"Crimes\",\n",
    "    data = yearly_df,\n",
    "    ci = None,\n",
    "    color = \"indigo\"\n",
    "    )\n",
    "ax.legend([f\"Y = {round(slope, 2)}x + {round(intercept, 2)}\"])\n",
    "fig.suptitle(\n",
    "    \"Linear Regression of Crimes in Vancouver from 2003 to 2016\",\n",
    "    fontsize = 18\n",
    ")\n",
    "\n",
    "plt.show()"
   ]
  },
  {
   "cell_type": "markdown",
   "metadata": {},
   "source": [
    "Visually, we can plainly see that our line does not catch all the details of the trends in yearly crimes. In this class, we used only a strictly linear test, while the data can be clearly seen to increase after 2013, which our data does not catch. \n",
    "\n",
    "While it is true that our Date has correlation with the number of crimes, it would be foolish to not mention that most of the decrease happens from 2004-2011, with the trend significantly changing direction after then.\n",
    "\n",
    "This can be seen if we calculate the **Coefficient of Determination** with : $$ R^2 = (r)^2 \\\\ = (-0.7351058405054328)^2 \\\\ = 0.54038059674 $$\n",
    "\n",
    "This means that $ 54 \\%$ of the variance of the data is NOT accounted for by our linear equation. This is not the ideal model for our sample. Still, the hypothesis testing was useful, and the visualization helps us understand our data better."
   ]
  },
  {
   "cell_type": "markdown",
   "metadata": {},
   "source": [
    "---\n",
    "\n",
    "# 5. Exploration of Monthly Trends\n",
    "\n",
    "*Here we will be examining which months, if any, are the worst and best for crime. Then, we hope to answer our research question - did the Olympics affect the crime rate in Vancouver while it was here?*"
   ]
  },
  {
   "cell_type": "markdown",
   "metadata": {},
   "source": [
    "### Quick Monthly Statistics:\n",
    "\n",
    "The mean, calculated as follows, is a mathematical representation of the average outcome of a variable.\n",
    "\n",
    "$$ \\bar x = \\frac{\\sum_{i=1}^n x_i}{n-1}$$\n",
    "\n",
    "We can use this calculation for each of the months in the year, in order to find the average number of crimes for each month in the year, as calculated from the 2003 - 2016 sample. "
   ]
  },
  {
   "cell_type": "code",
   "execution_count": 13,
   "metadata": {
    "scrolled": false
   },
   "outputs": [
    {
     "data": {
      "text/html": [
       "<div>\n",
       "<style scoped>\n",
       "    .dataframe tbody tr th:only-of-type {\n",
       "        vertical-align: middle;\n",
       "    }\n",
       "\n",
       "    .dataframe tbody tr th {\n",
       "        vertical-align: top;\n",
       "    }\n",
       "\n",
       "    .dataframe thead th {\n",
       "        text-align: right;\n",
       "    }\n",
       "</style>\n",
       "<table border=\"1\" class=\"dataframe\">\n",
       "  <thead>\n",
       "    <tr style=\"text-align: right;\">\n",
       "      <th></th>\n",
       "      <th>Mean Monthly Crimes</th>\n",
       "    </tr>\n",
       "    <tr>\n",
       "      <th>MONTH</th>\n",
       "      <th></th>\n",
       "    </tr>\n",
       "  </thead>\n",
       "  <tbody>\n",
       "    <tr>\n",
       "      <th>Jan</th>\n",
       "      <td>3053.500000</td>\n",
       "    </tr>\n",
       "    <tr>\n",
       "      <th>Feb</th>\n",
       "      <td>2717.857143</td>\n",
       "    </tr>\n",
       "    <tr>\n",
       "      <th>Mar</th>\n",
       "      <td>3022.428571</td>\n",
       "    </tr>\n",
       "    <tr>\n",
       "      <th>Apr</th>\n",
       "      <td>2941.142857</td>\n",
       "    </tr>\n",
       "    <tr>\n",
       "      <th>May</th>\n",
       "      <td>3133.928571</td>\n",
       "    </tr>\n",
       "    <tr>\n",
       "      <th>Jun</th>\n",
       "      <td>3129.928571</td>\n",
       "    </tr>\n",
       "    <tr>\n",
       "      <th>Jul</th>\n",
       "      <td>3173.357143</td>\n",
       "    </tr>\n",
       "    <tr>\n",
       "      <th>Aug</th>\n",
       "      <td>3281.642857</td>\n",
       "    </tr>\n",
       "    <tr>\n",
       "      <th>Sep</th>\n",
       "      <td>3125.000000</td>\n",
       "    </tr>\n",
       "    <tr>\n",
       "      <th>Oct</th>\n",
       "      <td>3183.285714</td>\n",
       "    </tr>\n",
       "    <tr>\n",
       "      <th>Nov</th>\n",
       "      <td>2996.071429</td>\n",
       "    </tr>\n",
       "    <tr>\n",
       "      <th>Dec</th>\n",
       "      <td>2869.142857</td>\n",
       "    </tr>\n",
       "  </tbody>\n",
       "</table>\n",
       "</div>"
      ],
      "text/plain": [
       "       Mean Monthly Crimes\n",
       "MONTH                     \n",
       "Jan            3053.500000\n",
       "Feb            2717.857143\n",
       "Mar            3022.428571\n",
       "Apr            2941.142857\n",
       "May            3133.928571\n",
       "Jun            3129.928571\n",
       "Jul            3173.357143\n",
       "Aug            3281.642857\n",
       "Sep            3125.000000\n",
       "Oct            3183.285714\n",
       "Nov            2996.071429\n",
       "Dec            2869.142857"
      ]
     },
     "execution_count": 13,
     "metadata": {},
     "output_type": "execute_result"
    }
   ],
   "source": [
    "month_mean_df = year_df.drop(index = \"All\").mean().reset_index().set_index(\"MONTH\")\n",
    "month_mean_df.rename(columns = {0 : \"Mean Monthly Crimes\"}, inplace = True)\n",
    "month_mean_df.drop(index = \"All\", inplace = True)\n",
    "\n",
    "month_mean_df"
   ]
  },
  {
   "cell_type": "markdown",
   "metadata": {},
   "source": [
    "Here we can see that the lowest average rate of crime is in February with 2717.9 crimes on average, and the highest is in August with 2381.6 crimes on average, and all of the other months fall in between.\n",
    "\n",
    "It might be useful to quickly see these means visually, so here is a bar plot."
   ]
  },
  {
   "cell_type": "code",
   "execution_count": 14,
   "metadata": {},
   "outputs": [
    {
     "data": {
      "image/png": "[encoded data removed]",
      "text/plain": [
       "<Figure size 1080x432 with 1 Axes>"
      ]
     },
     "metadata": {
      "needs_background": "light"
     },
     "output_type": "display_data"
    }
   ],
   "source": [
    "month_mean_df.reset_index(inplace = True)\n",
    "\n",
    "f, axes = plt.subplots(figsize = (15,6))\n",
    "\n",
    "sns.barplot(\n",
    "    x = \"MONTH\",\n",
    "    y = \"Mean Monthly Crimes\",\n",
    "    data = month_mean_df,\n",
    "    palette = \"Spectral_r\"\n",
    ")\n",
    "f.suptitle(\n",
    "    \"Mean Monthly Crimes from 2003 - 2016\",\n",
    "    fontsize = 15\n",
    ")\n",
    "plt.show()\n"
   ]
  },
  {
   "cell_type": "markdown",
   "metadata": {},
   "source": [
    "It is hard to gain insights from this alone, but it initially looks like it points towards a trend of a higher crime rate in the summer months, and a lower rate in winter months - with January being the exception. February has the lowest mean.\n",
    "\n",
    "---\n",
    "\n",
    "Another useful thing to consider would be finding out how much each month might vary across the years.\n",
    "Mathematically, we can find this by using the **Variance** and the **Standard Deviation**.\n",
    "\n",
    "The Variance, calculated as follows, is a measurement of how much the value of the data set would vary from it's mean. \n",
    "\n",
    "$$ S^2 = \\frac{\\sum_{i=1}^n (x_i - \\bar x)^2 }{n - 1}$$\n",
    "\n",
    "Then, to find the Standard Deviation, we simply find the square root of the variance.\n",
    "\n",
    "$$ S = \\sqrt{S^2} $$\n",
    "\n",
    "Since we already have the average values for each month, we can easily calculate the variance and standard deviation of each individual month and how much it varies through the years. \n",
    "\n",
    "We are going to find out how volitile and prone to change each month is, and use that in tandem with our calculated monthly means to get an idea about the data."
   ]
  },
  {
   "cell_type": "code",
   "execution_count": 15,
   "metadata": {},
   "outputs": [
    {
     "data": {
      "text/html": [
       "<div>\n",
       "<style scoped>\n",
       "    .dataframe tbody tr th:only-of-type {\n",
       "        vertical-align: middle;\n",
       "    }\n",
       "\n",
       "    .dataframe tbody tr th {\n",
       "        vertical-align: top;\n",
       "    }\n",
       "\n",
       "    .dataframe thead th {\n",
       "        text-align: right;\n",
       "    }\n",
       "</style>\n",
       "<table border=\"1\" class=\"dataframe\">\n",
       "  <thead>\n",
       "    <tr style=\"text-align: right;\">\n",
       "      <th></th>\n",
       "      <th>Mean Monthly Crimes</th>\n",
       "      <th>Standard Deviation of Monthly Crimes</th>\n",
       "    </tr>\n",
       "    <tr>\n",
       "      <th>MONTH</th>\n",
       "      <th></th>\n",
       "      <th></th>\n",
       "    </tr>\n",
       "  </thead>\n",
       "  <tbody>\n",
       "    <tr>\n",
       "      <th>Jan</th>\n",
       "      <td>3053.500000</td>\n",
       "      <td>730.611835</td>\n",
       "    </tr>\n",
       "    <tr>\n",
       "      <th>Feb</th>\n",
       "      <td>2717.857143</td>\n",
       "      <td>585.653331</td>\n",
       "    </tr>\n",
       "    <tr>\n",
       "      <th>Mar</th>\n",
       "      <td>3022.428571</td>\n",
       "      <td>682.176011</td>\n",
       "    </tr>\n",
       "    <tr>\n",
       "      <th>Apr</th>\n",
       "      <td>2941.142857</td>\n",
       "      <td>676.894476</td>\n",
       "    </tr>\n",
       "    <tr>\n",
       "      <th>May</th>\n",
       "      <td>3133.928571</td>\n",
       "      <td>702.566664</td>\n",
       "    </tr>\n",
       "    <tr>\n",
       "      <th>Jun</th>\n",
       "      <td>3129.928571</td>\n",
       "      <td>613.122709</td>\n",
       "    </tr>\n",
       "    <tr>\n",
       "      <th>Jul</th>\n",
       "      <td>3173.357143</td>\n",
       "      <td>547.154402</td>\n",
       "    </tr>\n",
       "    <tr>\n",
       "      <th>Aug</th>\n",
       "      <td>3281.642857</td>\n",
       "      <td>598.962257</td>\n",
       "    </tr>\n",
       "    <tr>\n",
       "      <th>Sep</th>\n",
       "      <td>3125.000000</td>\n",
       "      <td>614.225216</td>\n",
       "    </tr>\n",
       "    <tr>\n",
       "      <th>Oct</th>\n",
       "      <td>3183.285714</td>\n",
       "      <td>679.178738</td>\n",
       "    </tr>\n",
       "    <tr>\n",
       "      <th>Nov</th>\n",
       "      <td>2996.071429</td>\n",
       "      <td>594.522234</td>\n",
       "    </tr>\n",
       "    <tr>\n",
       "      <th>Dec</th>\n",
       "      <td>2869.142857</td>\n",
       "      <td>628.159933</td>\n",
       "    </tr>\n",
       "  </tbody>\n",
       "</table>\n",
       "</div>"
      ],
      "text/plain": [
       "       Mean Monthly Crimes  Standard Deviation of Monthly Crimes\n",
       "MONTH                                                           \n",
       "Jan            3053.500000                            730.611835\n",
       "Feb            2717.857143                            585.653331\n",
       "Mar            3022.428571                            682.176011\n",
       "Apr            2941.142857                            676.894476\n",
       "May            3133.928571                            702.566664\n",
       "Jun            3129.928571                            613.122709\n",
       "Jul            3173.357143                            547.154402\n",
       "Aug            3281.642857                            598.962257\n",
       "Sep            3125.000000                            614.225216\n",
       "Oct            3183.285714                            679.178738\n",
       "Nov            2996.071429                            594.522234\n",
       "Dec            2869.142857                            628.159933"
      ]
     },
     "execution_count": 15,
     "metadata": {},
     "output_type": "execute_result"
    }
   ],
   "source": [
    "month_std_df = year_df.drop(index = \"All\").std().reset_index().set_index(\"MONTH\")\n",
    "month_std_df.rename(columns = {0 : \"Standard Deviation of Monthly Crimes\"}, inplace = True)\n",
    "month_std_df.drop(index = \"All\", inplace = True)\n",
    "month_std_df.reset_index(inplace = True)\n",
    "\n",
    "month_stat_df = month_mean_df.merge(\n",
    "    month_std_df,\n",
    "    how = \"left\",\n",
    "    on = \"MONTH\",\n",
    ")\n",
    "month_stat_df.set_index(\"MONTH\", inplace = True)\n",
    "\n",
    "month_stat_df"
   ]
  },
  {
   "cell_type": "markdown",
   "metadata": {},
   "source": [
    "There are a couple conclusions we might take away from this:\n",
    "* January and May seem quite average when viewing only their mean, but here we can see they have the most variation of all of the months. Perhaps some single events over the years could have contributed to more outliers for those months?\n",
    "\n",
    "* August, while having the highest mean crime rate, also has a fairly small Standard Deviation. This needs more testing, but could indicate that it is consistantly a crime-ridden month.\n",
    "\n",
    "* February, while having the fewest average crimes, also has the one of the smallest standard deviation. This means that according to our dataset, February might be pretty consistantly the safest month of the year. \n",
    "\n",
    "\n",
    "\n",
    "Let's look further into a comparison of our monthly statistics side by side, using a **Box Plot**. This will let us compare their averages and spread of the data further, using a positional calculation of average with the **median** and of spread using **IQR**.\n",
    "\n",
    "\n",
    "\n"
   ]
  },
  {
   "cell_type": "code",
   "execution_count": 16,
   "metadata": {},
   "outputs": [
    {
     "data": {
      "image/png": "[encoded data removed]",
      "text/plain": [
       "<Figure size 1152x576 with 1 Axes>"
      ]
     },
     "metadata": {
      "needs_background": "light"
     },
     "output_type": "display_data"
    }
   ],
   "source": [
    "year_vis_df = date_df.groupby([\"YEAR\", \"MONTH\"]).count()\n",
    "year_vis_df.drop(columns = \"HUNDRED_BLOCK\", inplace = True)\n",
    "year_vis_df.rename(columns = {\"TYPE\" : \"Crimes\"}, inplace = True)\n",
    "year_vis_df = year_vis_df.drop(index = 2017).reset_index()\n",
    "year_vis_df = translate_months(year_vis_df)\n",
    "year_vis_df[\"YEAR\"] = year_vis_df[\"YEAR\"].astype(str)\n",
    "\n",
    "f, axes = plt.subplots(figsize = (16, 8))\n",
    "\n",
    "f.suptitle(\n",
    "    \"Monthly Crime in Vancouver from 2003 to 2016.\",\n",
    "    fontsize = 14)\n",
    "\n",
    "sns.boxplot(\n",
    "    x = \"MONTH\",\n",
    "    y = \"Crimes\",\n",
    "    data = year_vis_df,\n",
    "    palette = \"Spectral_r\"\n",
    ")\n",
    "plt.show()"
   ]
  },
  {
   "cell_type": "markdown",
   "metadata": {},
   "source": [
    "This boxplot gives us more insight into our monthly trends. \n",
    "\n",
    "If we examine just the boxes, we can see that our small hypothesis about summer months tending to have more crime seems to be supported - however, January and March too do not seem to follow this outside of their median.\n",
    "\n",
    "While at first it seemed that February may have consistantly been the month with the least crime, here we can April is also an unusual case: it has a low median, and a small IQR, but is largely left skewed with even an outlier appearing.\n",
    "\n",
    "This can be proven further by examining the Statistics of April.\n",
    "We can see above it has a mean of about 2941 crimes, while in the boxplot we can see visually that the median is only around 2700.\n",
    "\n",
    "Since $$ \\bar x > \\text{Median}$$\n",
    "\n",
    "We can mathematically conclude that April's data is significantly **right-skewed**. We see this visually on our box-plot.\n",
    "\n"
   ]
  },
  {
   "cell_type": "markdown",
   "metadata": {},
   "source": [
    "### A Final Visualization\n",
    "\n",
    "This may help visualize a comparison of the different crime counts throughout the years."
   ]
  },
  {
   "cell_type": "code",
   "execution_count": 17,
   "metadata": {},
   "outputs": [
    {
     "data": {
      "image/png": "[encoded data removed]",
      "text/plain": [
       "<Figure size 1080x720 with 1 Axes>"
      ]
     },
     "metadata": {
      "needs_background": "light"
     },
     "output_type": "display_data"
    }
   ],
   "source": [
    "year_vis_df = date_df.groupby([\"YEAR\", \"MONTH\"]).count()\n",
    "year_vis_df.drop(columns = \"HUNDRED_BLOCK\", inplace = True)\n",
    "year_vis_df.rename(columns = {\"TYPE\" : \"Crimes\"}, inplace = True)\n",
    "year_vis_df.drop(index = 2017, inplace = True)\n",
    "year_vis_df.reset_index(inplace = True)\n",
    "translate_months(year_vis_df)\n",
    "\n",
    "fig, axes = plt.subplots(figsize = (15, 10))\n",
    "sns.lineplot(\n",
    "    x = \"MONTH\",\n",
    "    y = \"Crimes\",\n",
    "    hue = \"YEAR\",\n",
    "    data = year_vis_df,\n",
    "    sort = False,\n",
    "    legend = \"full\",\n",
    "    palette = \"RdPu\",\n",
    "    marker = \"o\"\n",
    ")\n",
    "\n",
    "plt.legend(\n",
    "    bbox_to_anchor=(1.02, 0.25),\n",
    "    loc=3,\n",
    "    borderaxespad=0.)\n",
    "\n",
    "fig.suptitle(\n",
    "    \"Monthly Crime in Vancouver from 2003 to 2016\",\n",
    "    fontsize = 15\n",
    ")\n",
    "\n",
    "plt.show()"
   ]
  },
  {
   "cell_type": "markdown",
   "metadata": {},
   "source": [
    "Initially I put together this visualization in hopes to compare some trends across the months. Indeed, we can see that there is a small dip in all the Februraries and Decembers that come up, as well as an upward trend going into many Augusts.\n",
    "\n",
    "April can indeed be seen mostly concentrated right around 2500 crimes, with a few exceptions in the earlier years, explaining our tight concentration (and left skew).\n",
    "\n",
    "This visualization also helps to show some unusual months in relation to the rest of their year. Our small prediction towards the fall's high standard deviation may haved proved true we can see a clear outlier in September 2004 of a strange amount of crimes. We also see a similar outlier in May of 2003.\n",
    "\n",
    "This visualization only serves to cement further our conclusions on yearly trends: Vancouver seems to be improving over the years until around 2011, then begins to get worse from there."
   ]
  },
  {
   "cell_type": "markdown",
   "metadata": {},
   "source": [
    "### Investigating the Olympics\n",
    "\n",
    "In this section, we will examine if the 2010 olympics had any affect on the rate of crime in Vancouver. For simplicity's sake, we will be defining the entire month of February 2010 as the olympics.\n",
    "\n",
    "Let us review what we already know about February's in general:"
   ]
  },
  {
   "cell_type": "code",
   "execution_count": 18,
   "metadata": {},
   "outputs": [
    {
     "data": {
      "text/html": [
       "<div>\n",
       "<style scoped>\n",
       "    .dataframe tbody tr th:only-of-type {\n",
       "        vertical-align: middle;\n",
       "    }\n",
       "\n",
       "    .dataframe tbody tr th {\n",
       "        vertical-align: top;\n",
       "    }\n",
       "\n",
       "    .dataframe thead th {\n",
       "        text-align: right;\n",
       "    }\n",
       "</style>\n",
       "<table border=\"1\" class=\"dataframe\">\n",
       "  <thead>\n",
       "    <tr style=\"text-align: right;\">\n",
       "      <th></th>\n",
       "      <th>Mean Monthly Crimes</th>\n",
       "      <th>Standard Deviation of Monthly Crimes</th>\n",
       "    </tr>\n",
       "    <tr>\n",
       "      <th>MONTH</th>\n",
       "      <th></th>\n",
       "      <th></th>\n",
       "    </tr>\n",
       "  </thead>\n",
       "  <tbody>\n",
       "    <tr>\n",
       "      <th>Feb</th>\n",
       "      <td>2717.857143</td>\n",
       "      <td>585.653331</td>\n",
       "    </tr>\n",
       "  </tbody>\n",
       "</table>\n",
       "</div>"
      ],
      "text/plain": [
       "       Mean Monthly Crimes  Standard Deviation of Monthly Crimes\n",
       "MONTH                                                           \n",
       "Feb            2717.857143                            585.653331"
      ]
     },
     "execution_count": 18,
     "metadata": {},
     "output_type": "execute_result"
    }
   ],
   "source": [
    "month_stat_df.loc[[\"Feb\"]]"
   ]
  },
  {
   "cell_type": "markdown",
   "metadata": {},
   "source": [
    "Now to compare, what was our number of crimes for February of 2010?\n",
    "\n",
    "Let's check our contingency table we made to be sure."
   ]
  },
  {
   "cell_type": "code",
   "execution_count": 19,
   "metadata": {
    "scrolled": true
   },
   "outputs": [
    {
     "name": "stdout",
     "output_type": "stream",
     "text": [
      "Crimes in Feb 2010 = 2245\n"
     ]
    }
   ],
   "source": [
    "print(\"Crimes in Feb 2010 =\", year_df.at[2010, \"Feb\"])"
   ]
  },
  {
   "cell_type": "markdown",
   "metadata": {},
   "source": [
    "Indeed, it appears as if our 2010 value for February is in fact well below the mean - almost one full standard deviation below. \n",
    "\n",
    "It's difficult to make a conclusive hypothesis test about this since we are using just one value of one month of February - how could we account for any randomness at all?\n",
    "\n",
    "What we can do, is estimate the true $\\mu$ of the mean crime rate in any February. We have a good idea of what it could be with our data over this 14 year sample, but we need to create a **confidence interval** to know just how inaccurate we may be.\n",
    "\n",
    "Our population here is the crime of all Februaries in Vancouver. Since we do not know the population standard deviation, we can use the standard deviation of our sample noted above to work with a **T Distribution**.\n",
    "\n",
    "This interval we are creating can be found using the following formula:\n",
    "\n",
    "$$ \\bar x - t_{\\frac{\\alpha}{2}}\\frac{s}{\\sqrt n} \\quad \\le \\ \\mu \\ \\le \\quad \\bar x + t_{\\frac{\\alpha}{2}}\\frac{s}{\\sqrt n} $$\n",
    "\n",
    "In our case, we know already from our sample that $n = 14$, that  $\\bar x = 2717.857143$, and that $S_x = 585.653331$. We have no reason to adjust our default confidence level of $c = 0.95$, so $\\frac \\alpha 2 = 1 - c = 0.05 $\n",
    "\n",
    "Upon consulting a t-table, we can find that our t value for $c=0.95$ works out to be $t= 1.96$. Let's calculate this:"
   ]
  },
  {
   "cell_type": "code",
   "execution_count": 20,
   "metadata": {},
   "outputs": [
    {
     "data": {
      "text/plain": [
       "(2379.7109768197174, 3056.003308894568)"
      ]
     },
     "execution_count": 20,
     "metadata": {},
     "output_type": "execute_result"
    }
   ],
   "source": [
    "feb_data = year_df[\"Feb\"].drop(index=\"All\").to_list()\n",
    "\n",
    "sms.DescrStatsW(feb_data).tconfint_mean()"
   ]
  },
  {
   "cell_type": "markdown",
   "metadata": {},
   "source": [
    "So it seems like we can be 95% confident that our $\\mu$ for monthly crime in February is within the interval:\n",
    "$$ \\mu \\in (2379.81, 3056.00)$$\n",
    "\n",
    "\n",
    "...but unfortunately, there is a problem. Our sample data is NOT a **normal distribution**. That means that the t-distribution we modeled with is simply innacurate. \n",
    "\n",
    "We have some hope using the **Central Limit Theorem**, and arguing that the average values of our sample model a Normal Distribution with:\n",
    "\n",
    "$$\\bar X \\approx N(\\mu, \\frac{\\sigma}{\\sqrt n}) $$\n",
    "\n",
    "But that isn't entirely true either, since our sample is only of 14 different Februaries, which is pretty small. ($n < 30$)\n",
    "\n",
    "As a result, we cannot trust our confidence interval here for the mean of February Crime in Vancouver. \n",
    "\n",
    "---\n",
    "\n",
    "*This section has been kept in this project simply as a proof of concept to touch on class materials. I still wanted to work with confidence intervals and make reasonable conclusions with them*. \n",
    "\n",
    "---\n",
    "\n",
    "If it was true, we could be reasonably sure that February 2010 reported a below average crime rate - and make some predictions that this was due to the 2010 olympics that were present. \n",
    "\n",
    "However, it should be noted that February 2010 is still not officially an **outlier** in our sample, as reported in the boxplot above.\n",
    "\n",
    "With all this information, it remains inconclusive definitely if the 2010 Olympics made an impact on the crime rate in Vancouver while they were here."
   ]
  },
  {
   "cell_type": "markdown",
   "metadata": {},
   "source": [
    "---\n",
    "\n",
    "# 6. Final Thoughts\n",
    "\n",
    "*With all this data and summaries, I wanted to mention the various things we investigated in this project:*\n",
    "\n",
    "\n",
    "### Conclusions\n",
    "*We conclusively proved these with hypothesis testing*\n",
    "\n",
    "* There is indeed a negative correlation between Year and Amount of Crime in Vancouver. This indicates that our city may be seeing less crime as time goes on, which is a positive thing. However, our linear model only accounted for 54% of the trends, and we could see visually that things seemed to get better, and then worse after 2013.\n",
    "\n",
    "### Hypothetical Trends\n",
    "*We observed some general trends in statistics and posed some possible explanations*\n",
    "\n",
    "* It seems like summer months, especially August, are the worst months for Crime in Vancouver.\n",
    "* It seems like February in general may be the least crime-filled month in Vancouver.\n",
    "* While in the past April saw plenty of crime, it seems to have since stabilized to a low crime-rate.\n",
    "* It seems that February of 2010 was below average in crime rate, but it remains unanswered if this is statistically significant.\n",
    "\n",
    "\n",
    "### Further Studies\n",
    "*We only looked at trends in DATE from our dataset. There are plenty more questions that could be answered by bringing in some other variables, like Location or Type of Crime:*\n",
    "\n",
    "1. Are certain crimes more common at a certain time of day? Is there any correlation between the rate of a certain crime and the time of day?\n",
    "2. Which neigborhoods have the least reported crimes? Which have the most? Has that changed over the years?\n",
    "3. Given a type of crime and the time of day, can we predict what neighborhood it occured in?\n",
    "\n"
   ]
  }
 ],
 "metadata": {
  "kernelspec": {
   "display_name": "Python 3",
   "language": "python",
   "name": "python3"
  },
  "language_info": {
   "codemirror_mode": {
    "name": "ipython",
    "version": 3
   },
   "file_extension": ".py",
   "mimetype": "text/x-python",
   "name": "python",
   "nbconvert_exporter": "python",
   "pygments_lexer": "ipython3",
   "version": "3.8.5"
  }
 },
 "nbformat": 4,
 "nbformat_minor": 4
}
